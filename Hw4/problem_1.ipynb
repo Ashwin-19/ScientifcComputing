{
 "cells": [
  {
   "cell_type": "markdown",
   "metadata": {},
   "source": [
    "#### $\\text{Q1: Power Iteration}$"
   ]
  },
  {
   "cell_type": "code",
   "execution_count": 37,
   "metadata": {},
   "outputs": [],
   "source": [
    "from __future__ import division\n",
    "import numpy as np\n",
    "import scipy as sp\n",
    "import matplotlib.pyplot as plt\n",
    "import numpy.linalg as npla\n",
    "import scipy.linalg as spla"
   ]
  },
  {
   "cell_type": "code",
   "execution_count": 38,
   "metadata": {},
   "outputs": [],
   "source": [
    "def NPowerIteration(A,x):\n",
    "    '''\n",
    "    Normalized Power Iteration to compute\n",
    "    largest magnitude eigenvalue \n",
    "    \n",
    "    returns: eigenvalue y, eigenvector x\n",
    "    \n",
    "    Reference: \n",
    "    Classics in Applied Mathematics\n",
    "    Michael  T. Heath\n",
    "    '''\n",
    "    epsilon = np.power(10.0,-8)\n",
    "    k = 0\n",
    "    while k < 50:\n",
    "        \n",
    "        y = np.matmul(A,x)\n",
    "        x_new = np.divide(y,max(abs(y)))\n",
    "        \n",
    "        error = npla.norm(x - x_new,2)\n",
    "        if error < epsilon:\n",
    "            break\n",
    "        \n",
    "        x = x_new\n",
    "        k += 1\n",
    "    \n",
    "    eigval = max(abs(y))\n",
    "    eigvec = x\n",
    "    return eigval, eigvec"
   ]
  },
  {
   "cell_type": "code",
   "execution_count": 39,
   "metadata": {},
   "outputs": [
    {
     "name": "stdout",
     "output_type": "stream",
     "text": [
      "Normalized Power Iteration\n",
      "Eigenvalue = 11.000000016966453\n",
      "Eigenvector = [0.5  1.   0.75]\n"
     ]
    }
   ],
   "source": [
    "A = np.array([[2,3,2],[10,3,4],[3,6,1]])\n",
    "x = np.array([0,0,1])\n",
    "eigval, eigvec = NPowerIteration(A,x)\n",
    "print(\"Normalized Power Iteration\")\n",
    "print(\"Eigenvalue =\",eigval)\n",
    "print(\"Eigenvector =\", eigvec)"
   ]
  },
  {
   "cell_type": "code",
   "execution_count": 40,
   "metadata": {},
   "outputs": [
    {
     "name": "stdout",
     "output_type": "stream",
     "text": [
      "Numpy\n",
      "Eigenvalue = 10.999999999999993\n",
      "Eigenvector = [0.5  1.   0.75]\n"
     ]
    }
   ],
   "source": [
    "eigvals, eigvecs = npla.eig(A)\n",
    "\n",
    "# get index of maximum eigenvalue\n",
    "i = np.argmax(eigvals)\n",
    "\n",
    "# get maximum eigenvalue and corresponding eigenvector\n",
    "e = eigvals[i]\n",
    "v = eigvecs[:,i]\n",
    "\n",
    "# scale the eigenvector\n",
    "v /= v[1]\n",
    "\n",
    "print(\"Numpy\")\n",
    "print(\"Eigenvalue =\",e)\n",
    "print(\"Eigenvector =\",v)"
   ]
  },
  {
   "cell_type": "markdown",
   "metadata": {},
   "source": [
    "$\\text{As we can see, Normalized Power Iteration yields the largest eigenvalue (11) and}$\n",
    "$\\text{the eigenvector corresponding to it.}$"
   ]
  },
  {
   "cell_type": "code",
   "execution_count": 41,
   "metadata": {},
   "outputs": [],
   "source": [
    "def InverseIteration(A,x):\n",
    "    '''\n",
    "    Inverse Iteration to compute\n",
    "    smallest magnitude eigenvalue \n",
    "    \n",
    "    returns: eigenvalue, eigenvector\n",
    "    \n",
    "    Reference: \n",
    "    Classics in Applied Mathematics\n",
    "    Michael  T. Heath\n",
    "    '''\n",
    "    \n",
    "    epsilon = np.power(10.0,-15)\n",
    "    k = 0\n",
    "    \n",
    "    while k < 100:\n",
    "        \n",
    "        y = npla.solve(A,x)\n",
    "        x_new = np.divide(y,max(abs(y)))\n",
    "        \n",
    "        error = npla.norm(x - x_new,2)\n",
    "        if error < epsilon:\n",
    "            break\n",
    "            \n",
    "        x = x_new\n",
    "        k += 1\n",
    "    \n",
    "    eigval = np.divide(-1,max(abs(y)))\n",
    "    eigvec = y\n",
    "    return eigval, eigvec"
   ]
  },
  {
   "cell_type": "code",
   "execution_count": 42,
   "metadata": {},
   "outputs": [
    {
     "name": "stdout",
     "output_type": "stream",
     "text": [
      "eigenvalue = -2.0000000000000004\n",
      "eigenvector = [-0.1 -0.2  0.5]\n"
     ]
    }
   ],
   "source": [
    "A = np.array([[2,3,2],[10,3,4],[3,6,1]])\n",
    "x = np.array([0,0,1])\n",
    "eigval, eigvec = InverseIteration(A,x)\n",
    "print(\"eigenvalue =\",eigval)\n",
    "print(\"eigenvector =\",eigvec)"
   ]
  },
  {
   "cell_type": "code",
   "execution_count": 43,
   "metadata": {},
   "outputs": [
    {
     "name": "stdout",
     "output_type": "stream",
     "text": [
      "Numpy\n",
      "Eigenvalue = -2.0000000000000004\n",
      "Eigenvector = [-0.1 -0.2  0.5]\n"
     ]
    }
   ],
   "source": [
    "eigvals, eigvecs = npla.eig(A)\n",
    "\n",
    "# get index of minimum magnitude eigenvalue\n",
    "i = np.argmin(abs(eigvals))\n",
    "\n",
    "# get minimum magnitude eigenvalue and corresponding eigenvector\n",
    "e = eigvals[i]\n",
    "v = eigvecs[:,i]\n",
    "\n",
    "# scale the eigenvector\n",
    "v /= v[0]\n",
    "v *= -0.1\n",
    "\n",
    "print(\"Numpy\")\n",
    "print(\"Eigenvalue =\",e)\n",
    "print(\"Eigenvector =\",v)"
   ]
  },
  {
   "cell_type": "markdown",
   "metadata": {},
   "source": [
    "$\\text{The Inverse Iteration method yields the smallest magnitude eigenvalue and the eigenvector}$\n",
    "$\\text{corresponding to it. The results hold consistent with those computed by the Numpy}$\n",
    "$\\text{framework.}$"
   ]
  },
  {
   "cell_type": "markdown",
   "metadata": {},
   "source": [
    "$\\text{Ashwin Singh}$\n",
    "<br/>\n",
    "$\\text{2017222}$"
   ]
  }
 ],
 "metadata": {
  "kernelspec": {
   "display_name": "Python 3",
   "language": "python",
   "name": "python3"
  },
  "language_info": {
   "codemirror_mode": {
    "name": "ipython",
    "version": 3
   },
   "file_extension": ".py",
   "mimetype": "text/x-python",
   "name": "python",
   "nbconvert_exporter": "python",
   "pygments_lexer": "ipython3",
   "version": "3.7.1"
  }
 },
 "nbformat": 4,
 "nbformat_minor": 2
}
