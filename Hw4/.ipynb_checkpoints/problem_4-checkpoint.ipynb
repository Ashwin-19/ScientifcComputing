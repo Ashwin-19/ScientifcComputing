{
 "cells": [
  {
   "cell_type": "markdown",
   "metadata": {},
   "source": [
    "#### $\\text{Q4: Modified QR Iteration}$"
   ]
  },
  {
   "cell_type": "code",
   "execution_count": 1,
   "metadata": {},
   "outputs": [],
   "source": [
    "from __future__ import division\n",
    "import numpy as np\n",
    "import scipy as sp\n",
    "import matplotlib.pyplot as plt\n",
    "import numpy.linalg as npla\n",
    "import scipy.linalg as spla"
   ]
  },
  {
   "cell_type": "code",
   "execution_count": 7,
   "metadata": {},
   "outputs": [],
   "source": [
    "def ModifiedQRIteration(A):\n",
    "    '''\n",
    "    Computes the lowest magnitude eigenvalue\n",
    "    of a given matrix\n",
    "    \n",
    "    Reference: \n",
    "    Classics in Applied Mathematics\n",
    "    Michael  T. Heath\n",
    "    '''\n",
    "    epsilon = np.power(10.0,-15)\n",
    "    n = A.shape[0]\n",
    "    k = 0\n",
    "    \n",
    "    while k < 1000:\n",
    "        sigma = A[n-1,n-1]\n",
    "        zI = np.multiply(sigma,np.eye(n))\n",
    "        QR = np.subtract(A,zI)\n",
    "        Q,R = npla.qr(QR)\n",
    "        A_new = np.add(np.matmul(R,Q),zI)\n",
    "        \n",
    "        error = npla.norm(np.subtract(A_new,A),2)\n",
    "        if error < epsilon:\n",
    "            break\n",
    "        \n",
    "        A = A_new\n",
    "        k+=1\n",
    "    \n",
    "    return A"
   ]
  },
  {
   "cell_type": "code",
   "execution_count": 9,
   "metadata": {},
   "outputs": [
    {
     "name": "stdout",
     "output_type": "stream",
     "text": [
      "Modified QR\n",
      "Eigenvalues:  7.287992138960421 2.133074475348525 0.5789333856910526\n"
     ]
    }
   ],
   "source": [
    "A = np.array([[6,2,1],[2,3,1],[1,1,1]])\n",
    "A = ModifiedQRIteration(A)\n",
    "print(\"Modified QR\")\n",
    "print(\"Eigenvalues: \",A[0][0],A[1][1],A[2][2])"
   ]
  },
  {
   "cell_type": "code",
   "execution_count": 10,
   "metadata": {},
   "outputs": [
    {
     "name": "stdout",
     "output_type": "stream",
     "text": [
      "Numpy\n",
      "Eigenvalues: [7.28799214 2.13307448 0.57893339]\n"
     ]
    }
   ],
   "source": [
    "print(\"Numpy\")\n",
    "print(\"Eigenvalues:\",(npla.eig(A)[0]))"
   ]
  },
  {
   "cell_type": "code",
   "execution_count": 12,
   "metadata": {},
   "outputs": [
    {
     "name": "stdout",
     "output_type": "stream",
     "text": [
      "Modified QR\n",
      "Eigenvalues:  11.000000000000004 -3.000000000000001 -1.9999999999999991\n"
     ]
    }
   ],
   "source": [
    "A = np.array([[2,3,2],[10,3,4],[3,6,1]])\n",
    "A = ModifiedQRIteration(A)\n",
    "print(\"Modified QR\")\n",
    "print(\"Eigenvalues: \",A[0][0],A[1][1],A[2][2])"
   ]
  },
  {
   "cell_type": "code",
   "execution_count": 57,
   "metadata": {},
   "outputs": [
    {
     "name": "stdout",
     "output_type": "stream",
     "text": [
      "Numpy\n",
      "Eigenvalues: [11. -2. -3.]\n"
     ]
    }
   ],
   "source": [
    "print(\"Numpy\")\n",
    "print(\"Eigenvalues:\",npla.eig(A)[0])"
   ]
  },
  {
   "cell_type": "markdown",
   "metadata": {},
   "source": [
    "$\\text{As we can see, the modified QR iteration converges to the smallest magnitude eigenvalue}$\n",
    "$\\text{for a general matrix A, and the results are consistent with the eigenvalues as computed}$\n",
    "$\\text{by a general eigensystem routine like that of numpy.}$"
   ]
  },
  {
   "cell_type": "markdown",
   "metadata": {},
   "source": [
    "$\\text{Ashwin Singh}$\n",
    "<br/>\n",
    "$\\text{2017222}$"
   ]
  }
 ],
 "metadata": {
  "kernelspec": {
   "display_name": "Python 3",
   "language": "python",
   "name": "python3"
  },
  "language_info": {
   "codemirror_mode": {
    "name": "ipython",
    "version": 3
   },
   "file_extension": ".py",
   "mimetype": "text/x-python",
   "name": "python",
   "nbconvert_exporter": "python",
   "pygments_lexer": "ipython3",
   "version": "3.7.1"
  }
 },
 "nbformat": 4,
 "nbformat_minor": 2
}
