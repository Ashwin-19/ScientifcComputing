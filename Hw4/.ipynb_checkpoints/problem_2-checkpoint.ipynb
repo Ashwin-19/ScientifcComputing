{
 "cells": [
  {
   "cell_type": "markdown",
   "metadata": {},
   "source": [
    "#### $\\text{Q2: Shifted Inverse Iteration}$"
   ]
  },
  {
   "cell_type": "code",
   "execution_count": 3,
   "metadata": {},
   "outputs": [],
   "source": [
    "from __future__ import division\n",
    "import numpy as np\n",
    "import scipy as sp\n",
    "import matplotlib.pyplot as plt\n",
    "import numpy.linalg as npla\n",
    "import scipy.linalg as spla"
   ]
  },
  {
   "cell_type": "code",
   "execution_count": 16,
   "metadata": {},
   "outputs": [],
   "source": [
    "def shiftedInverseIteration(A,sigma):\n",
    "    '''\n",
    "    Shifted Inverse Iteration to compute\n",
    "    eigenvalue of a matrix A nearest to\n",
    "    sigma\n",
    "    \n",
    "    returns: eigenvalue, eigenvector\n",
    "    \n",
    "    Reference: \n",
    "    Classics in Applied Mathematics\n",
    "    Michael  T. Heath\n",
    "    '''\n",
    "    n = A.shape[0]\n",
    "    epsilon = np.power(10.0,-15)\n",
    "    x = np.random.rand(3)\n",
    "    k = 0\n",
    "    \n",
    "    while k < 100:\n",
    "        \n",
    "        zI = np.dot(sigma,np.eye(n))\n",
    "        eqn = np.subtract(A,zI)\n",
    "        \n",
    "        y = npla.solve(eqn,x)\n",
    "        x_new = np.divide(y,max(abs(y)))\n",
    "        \n",
    "        error = npla.norm(x - x_new,2)\n",
    "        if error < epsilon:\n",
    "            break\n",
    "            \n",
    "        x = x_new\n",
    "        k += 1\n",
    "    \n",
    "    # shift the eigenvalue\n",
    "    eigval = np.divide(1,max(abs(y))) + sigma\n",
    "    eigvec = y\n",
    "    \n",
    "    return eigval, eigvec"
   ]
  },
  {
   "cell_type": "code",
   "execution_count": 18,
   "metadata": {},
   "outputs": [
    {
     "name": "stdout",
     "output_type": "stream",
     "text": [
      "eigenvalue = 2.133074475348525\n",
      "eigenvector = [-4.56075455  7.51458909  2.60692002]\n"
     ]
    }
   ],
   "source": [
    "A = np.array([[6,2,1],[2,3,1],[1,1,1]])\n",
    "sigma = 2\n",
    "eigval, eigvec = shiftedInverseIteration(A,sigma)\n",
    "print(\"eigenvalue =\",eigval)\n",
    "print(\"eigenvector =\",eigvec)"
   ]
  },
  {
   "cell_type": "code",
   "execution_count": 24,
   "metadata": {},
   "outputs": [
    {
     "name": "stdout",
     "output_type": "stream",
     "text": [
      "[0.57893339 2.13307448 7.28799214]\n",
      "\n",
      "Numpy\n",
      "Eigenvalue = 2.1330744753485247\n",
      "Eigenvector = [-4.56075455  7.51458909  2.60692002]\n"
     ]
    }
   ],
   "source": [
    "eigvals, eigvecs = npla.eigh(A)\n",
    "\n",
    "# print all eigenvalues\n",
    "print(eigvals)\n",
    "print()\n",
    "\n",
    "# get corresponding eigenvalue and eigenvector\n",
    "e = eigvals[1]\n",
    "v = eigvecs[:,1]\n",
    "\n",
    "# scale the eigenvector\n",
    "v /= v[0]\n",
    "v *= eigvec[0]\n",
    "\n",
    "print(\"Numpy\")\n",
    "print(\"Eigenvalue =\",e)\n",
    "print(\"Eigenvector =\",v)"
   ]
  },
  {
   "cell_type": "code",
   "execution_count": null,
   "metadata": {},
   "outputs": [],
   "source": []
  }
 ],
 "metadata": {
  "kernelspec": {
   "display_name": "Python 3",
   "language": "python",
   "name": "python3"
  },
  "language_info": {
   "codemirror_mode": {
    "name": "ipython",
    "version": 3
   },
   "file_extension": ".py",
   "mimetype": "text/x-python",
   "name": "python",
   "nbconvert_exporter": "python",
   "pygments_lexer": "ipython3",
   "version": "3.7.1"
  }
 },
 "nbformat": 4,
 "nbformat_minor": 2
}
