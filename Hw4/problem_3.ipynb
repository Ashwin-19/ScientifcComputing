{
 "cells": [
  {
   "cell_type": "markdown",
   "metadata": {},
   "source": [
    "#### $\\text{Q3: Rayleigh Quotient Iteration}$"
   ]
  },
  {
   "cell_type": "code",
   "execution_count": 6,
   "metadata": {},
   "outputs": [],
   "source": [
    "from __future__ import division\n",
    "import numpy as np\n",
    "import scipy as sp\n",
    "import matplotlib.pyplot as plt\n",
    "import numpy.linalg as npla\n",
    "import scipy.linalg as spla"
   ]
  },
  {
   "cell_type": "code",
   "execution_count": 7,
   "metadata": {},
   "outputs": [],
   "source": [
    "def RayleighQIteration(A):\n",
    "    '''\n",
    "    Rayleigh Quotient Iteration method\n",
    "    to obtain eigenvalues for matrix A\n",
    "    \n",
    "    returns: eigenvalue, eigenvector\n",
    "    \n",
    "    Reference: \n",
    "    Classics in Applied Mathematics\n",
    "    Michael  T. Heath\n",
    "    '''\n",
    "    epsilon = np.power(10.0,-15)\n",
    "    x = np.random.rand(3)\n",
    "    k = 0\n",
    "    sigma = np.inf\n",
    "    \n",
    "    while k < 100:\n",
    "        \n",
    "        sigma_new = np.matmul(x.T,A)\n",
    "        sigma_new = np.dot(sigma_new,x)\n",
    "        sigma_new /= np.dot(x,x)\n",
    "        \n",
    "        Eqn = np.subtract(A,np.multiply(sigma_new,np.eye(3)))\n",
    "        y = npla.solve(Eqn, x)\n",
    "        x_new = np.divide(y,max(abs(y)))\n",
    "        \n",
    "        error = npla.norm(x - x_new,2)\n",
    "        if error < epsilon:\n",
    "            return sigma, sigma_new, x_new\n",
    "            break\n",
    "        \n",
    "        x = x_new\n",
    "        sigma = sigma_new\n",
    "        k+=1\n",
    "    \n",
    "    return sigma, sigma_new, x"
   ]
  },
  {
   "cell_type": "code",
   "execution_count": 8,
   "metadata": {},
   "outputs": [
    {
     "name": "stdout",
     "output_type": "stream",
     "text": [
      "Rayleigh Quotient Iteration\n",
      "eigenvalue = 7.287992138960422\n",
      "eigenvector = [-1.         -0.52290017 -0.24219181]\n"
     ]
    }
   ],
   "source": [
    "A = np.array([[6,2,1],[2,3,1],[1,1,1]])\n",
    "sigma, sigma_n, x = RayleighQIteration(A)\n",
    "print(\"Rayleigh Quotient Iteration\")\n",
    "print(\"eigenvalue =\",sigma_n)\n",
    "print(\"eigenvector =\",x)"
   ]
  },
  {
   "cell_type": "markdown",
   "metadata": {},
   "source": [
    "$\\text{Now for the given eigenvalue, we compute the rate of convergence } \\mu \\text{ as follows}$\n",
    "$\\mu = \\frac{|\\lambda_{k+1}-L|}{|\\lambda_{k}-L|}$\n",
    "$\\text{where L is the true eigenvalue (largest magnitude eigenvalue as provided by numpy).}$\n",
    "$\\lambda_{k}, \\lambda_{k+1} \\text{ are successively computed eigenvalues by the method prior to convergence.}$"
   ]
  },
  {
   "cell_type": "markdown",
   "metadata": {},
   "source": [
    "[Reference](https://en.wikipedia.org/wiki/Rate_of_convergence)"
   ]
  },
  {
   "cell_type": "code",
   "execution_count": 9,
   "metadata": {},
   "outputs": [
    {
     "name": "stdout",
     "output_type": "stream",
     "text": [
      "rate of convergence = 0.9999999999999938\n"
     ]
    }
   ],
   "source": [
    "L = np.argmax(np.absolute(npla.eig(A)[0]))\n",
    "L = npla.eig(A)[0][L]\n",
    "rate = np.absolute(sigma_n-L/sigma-L)\n",
    "print(\"rate of convergence =\", rate)"
   ]
  },
  {
   "cell_type": "code",
   "execution_count": 10,
   "metadata": {},
   "outputs": [
    {
     "name": "stdout",
     "output_type": "stream",
     "text": [
      "Numpy\n",
      "Eigenvalue = 7.2879921389604165\n",
      "Eigenvector = [-1.         -0.52290017 -0.24219181]\n"
     ]
    }
   ],
   "source": [
    "eigvals, eigvecs = npla.eig(A)\n",
    "\n",
    "# get index of corresponding eigenvalue\n",
    "i = np.argmax(eigvals)\n",
    "\n",
    "# get corresponding eigenvalue and corresponding eigenvector\n",
    "e = eigvals[i]\n",
    "v = eigvecs[:,i]\n",
    "\n",
    "# scale the eigenvector\n",
    "v /= -v[0]\n",
    "\n",
    "print(\"Numpy\")\n",
    "print(\"Eigenvalue =\",e)\n",
    "print(\"Eigenvector =\",v)"
   ]
  },
  {
   "cell_type": "markdown",
   "metadata": {},
   "source": [
    "$\\text{Therefore the results computed by Rayleigh Quotient Iteration hold consistent}$\n",
    "$\\text{with those computed by the Numpy framework.}$"
   ]
  },
  {
   "cell_type": "markdown",
   "metadata": {},
   "source": [
    "$\\text{Ashwin Singh}$\n",
    "<br/>\n",
    "$\\text{2017222}$"
   ]
  }
 ],
 "metadata": {
  "kernelspec": {
   "display_name": "Python 3",
   "language": "python",
   "name": "python3"
  },
  "language_info": {
   "codemirror_mode": {
    "name": "ipython",
    "version": 3
   },
   "file_extension": ".py",
   "mimetype": "text/x-python",
   "name": "python",
   "nbconvert_exporter": "python",
   "pygments_lexer": "ipython3",
   "version": "3.7.1"
  }
 },
 "nbformat": 4,
 "nbformat_minor": 2
}
