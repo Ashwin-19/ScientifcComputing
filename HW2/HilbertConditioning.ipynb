{
 "cells": [
  {
   "cell_type": "markdown",
   "metadata": {},
   "source": [
    "#### $\\text{Q1: Hilbert Matrix Conditioning}$"
   ]
  },
  {
   "cell_type": "code",
   "execution_count": 10,
   "metadata": {},
   "outputs": [],
   "source": [
    "from __future__ import division\n",
    "import numpy as np\n",
    "import scipy as sp\n",
    "import matplotlib.pyplot as plt\n",
    "import numpy.linalg as npla\n",
    "import scipy.linalg as spla"
   ]
  },
  {
   "cell_type": "code",
   "execution_count": 11,
   "metadata": {},
   "outputs": [],
   "source": [
    "def hilbert_matrix(n):\n",
    "    '''\n",
    "    Initialize a Hilbert matrix of order n x n\n",
    "    '''\n",
    "    H = [[1/(i+j+1) for j in range(n)] for i in range(n)]\n",
    "    H = np.array(H)\n",
    "    return H"
   ]
  },
  {
   "cell_type": "code",
   "execution_count": 12,
   "metadata": {},
   "outputs": [],
   "source": [
    "def init_equation(n):\n",
    "    '''\n",
    "    returns H,b where b = Hx and x = [1]*n\n",
    "    '''\n",
    "    H = hilbert_matrix(n)\n",
    "    b = np.matmul(H,np.array([1]*n))\n",
    "    return H, b"
   ]
  },
  {
   "cell_type": "code",
   "execution_count": 13,
   "metadata": {},
   "outputs": [],
   "source": [
    "def approximate_solution(H,b):\n",
    "    '''\n",
    "    approximate solution for equation Hx = b\n",
    "    \n",
    "    P,L,U -> LU factorization of H with permutation matrix P\n",
    "    \n",
    "    Hx = b\n",
    "    -> PLUx = b\n",
    "    -> LUx = P.T*b (P.T = P^(-1)) \n",
    "    \n",
    "    Forward Solve for Ly = P.T*b\n",
    "    Backward Solve for Ux = y\n",
    "    \n",
    "    returns: x\n",
    "    '''\n",
    "    P,L,U = spla.lu(H)\n",
    "    Pb = P.T@b\n",
    "    y = spla.solve_triangular(L,Pb,lower=True)\n",
    "    x = spla.solve_triangular(U,y,lower=False)\n",
    "    return x"
   ]
  },
  {
   "cell_type": "code",
   "execution_count": 14,
   "metadata": {},
   "outputs": [],
   "source": [
    "def residual_norm(H,b,x_cap):\n",
    "    r = b - np.matmul(H,x_cap)\n",
    "    r_norm = max(abs(r))\n",
    "    print('Infinity norm of residual r:',r_norm)\n",
    "    return r_norm"
   ]
  },
  {
   "cell_type": "code",
   "execution_count": 15,
   "metadata": {},
   "outputs": [],
   "source": [
    "def error_norm(x_cap,x):\n",
    "    delta_x = x_cap - x\n",
    "    delta_x_norm = max(abs(delta_x))\n",
    "    print('infinity norm of error:',delta_x_norm)\n",
    "    return delta_x_norm"
   ]
  },
  {
   "cell_type": "markdown",
   "metadata": {},
   "source": [
    "$\\text{We solve the Linear System }{Hx = b}\\text{ and obtain both the approximate and exact solutions}$\n",
    "${x^{'}\\text{ and }x \\text{ respectively.}}$\n",
    "\n",
    "$\\text{The Hilbert Matrix is generated for n = 1,2..,15.}$\n",
    "$\\text{Next, we compute the }{\\infty}\\text{-norm for the residual }{r = b - Hx^{'}}\\text{and the }{\\infty}\\text{-norm for the error }$\n",
    "${\\Delta x = x^{'}-x \\text{  }\\forall\\text{ }1\\leq n\\leq 15}$"
   ]
  },
  {
   "cell_type": "code",
   "execution_count": 19,
   "metadata": {},
   "outputs": [
    {
     "name": "stdout",
     "output_type": "stream",
     "text": [
      "n = 1\n",
      "Infinity norm of residual r: 0.0\n",
      "infinity norm of error: 0.0\n",
      "\n",
      "n = 2\n",
      "Infinity norm of residual r: 0.0\n",
      "infinity norm of error: 6.661338147750939e-16\n",
      "\n",
      "n = 3\n",
      "Infinity norm of residual r: 0.0\n",
      "infinity norm of error: 9.992007221626409e-15\n",
      "\n",
      "n = 4\n",
      "Infinity norm of residual r: 0.0\n",
      "infinity norm of error: 1.949551631241775e-13\n",
      "\n",
      "n = 5\n",
      "Infinity norm of residual r: 4.440892098500626e-16\n",
      "infinity norm of error: 2.683431254979496e-11\n",
      "\n",
      "n = 6\n",
      "Infinity norm of residual r: 2.220446049250313e-16\n",
      "infinity norm of error: 4.4203130045161743e-10\n",
      "\n",
      "n = 7\n",
      "Infinity norm of residual r: 0.0\n",
      "infinity norm of error: 1.7122413042969242e-08\n",
      "\n",
      "n = 8\n",
      "Infinity norm of residual r: 4.440892098500626e-16\n",
      "infinity norm of error: 2.3511776769957748e-07\n",
      "\n",
      "n = 9\n",
      "Infinity norm of residual r: 2.220446049250313e-16\n",
      "infinity norm of error: 1.5975441239879373e-05\n",
      "\n",
      "n = 10\n",
      "Infinity norm of residual r: 2.220446049250313e-16\n",
      "infinity norm of error: 0.0008145607536313992\n",
      "\n",
      "n = 11\n",
      "Infinity norm of residual r: 4.440892098500626e-16\n",
      "infinity norm of error: 0.01406078583249859\n",
      "\n",
      "n = 12\n",
      "Infinity norm of residual r: 2.220446049250313e-16\n",
      "infinity norm of error: 0.38474542578766135\n",
      "\n",
      "n = 13\n",
      "Infinity norm of residual r: 8.881784197001252e-16\n",
      "infinity norm of error: 0.8285697266507566\n",
      "\n",
      "n = 14\n",
      "Infinity norm of residual r: 8.881784197001252e-16\n",
      "infinity norm of error: 7.560665531874491\n",
      "\n",
      "n = 15\n",
      "Infinity norm of residual r: 2.220446049250313e-16\n",
      "infinity norm of error: 10.021192464668557\n",
      "\n"
     ]
    }
   ],
   "source": [
    "residual_norms = []\n",
    "error_norms = []\n",
    "for i in range(1,16):\n",
    "    print(\"n =\",i)\n",
    "    H, b = init_equation(i)\n",
    "    x_cap = approximate_solution(H,b)\n",
    "    x = [1]*i\n",
    "    residual_norms.append(residual_norm(H,b,x_cap))\n",
    "    error_norms.append(error_norm(x_cap,x))\n",
    "    print()"
   ]
  },
  {
   "cell_type": "code",
   "execution_count": 20,
   "metadata": {},
   "outputs": [
    {
     "data": {
      "image/png": "[encoded data removed]",
      "text/plain": [
       "<Figure size 432x288 with 1 Axes>"
      ]
     },
     "metadata": {
      "needs_background": "light"
     },
     "output_type": "display_data"
    }
   ],
   "source": [
    "x_axis = np.arange(1,16,1)\n",
    "plt.xlabel('n')\n",
    "plt.scatter(x_axis, error_norms, label='error norms')\n",
    "plt.legend(loc='upper left')\n",
    "plt.show()"
   ]
  },
  {
   "cell_type": "code",
   "execution_count": 21,
   "metadata": {},
   "outputs": [
    {
     "data": {
      "image/png": "[encoded data removed]",
      "text/plain": [
       "<Figure size 432x288 with 1 Axes>"
      ]
     },
     "metadata": {
      "needs_background": "light"
     },
     "output_type": "display_data"
    }
   ],
   "source": [
    "plt.xlabel('n')\n",
    "plt.scatter(x_axis, residual_norms, label='residual norms')\n",
    "plt.legend(loc='upper left')\n",
    "plt.show()"
   ]
  },
  {
   "cell_type": "markdown",
   "metadata": {},
   "source": [
    "$\\text{Next, to determine where error becomes 100%, we need to compute the }{\\infty}\\text{-norm }$\n",
    "$\\text{of the relative error }{\\frac{||\\Delta x||}{||x||} = \\frac{||x^{'}-x||}{||x||}}\\text{ and observe where it grows more than 1.}$\n",
    "$\\text{Also, since }{||x||_{\\infty} = 1}\\text{, relative error is nothing but }{||x^{'}-x||_{\\infty}.}$\n",
    "$\\text{So, we need to determine the first n for which }{||x^{'}-x||_{\\infty} > 1}$"
   ]
  },
  {
   "cell_type": "code",
   "execution_count": 22,
   "metadata": {},
   "outputs": [
    {
     "name": "stdout",
     "output_type": "stream",
     "text": [
      "n can be as large as 14\n"
     ]
    }
   ],
   "source": [
    "for i in range(len(error_norms)):\n",
    "    if error_norms[i] > 1:\n",
    "        print('n can be as large as',i+1)\n",
    "        break"
   ]
  },
  {
   "cell_type": "markdown",
   "metadata": {},
   "source": [
    "$\\text{And hence, n can be as large as 14.}$"
   ]
  },
  {
   "cell_type": "markdown",
   "metadata": {},
   "source": [
    "##### $\\text{Ashwin Singh}$\n",
    "##### $\\text{2017222}$"
   ]
  }
 ],
 "metadata": {
  "kernelspec": {
   "display_name": "Python 3",
   "language": "python",
   "name": "python3"
  },
  "language_info": {
   "codemirror_mode": {
    "name": "ipython",
    "version": 3
   },
   "file_extension": ".py",
   "mimetype": "text/x-python",
   "name": "python",
   "nbconvert_exporter": "python",
   "pygments_lexer": "ipython3",
   "version": "3.7.1"
  }
 },
 "nbformat": 4,
 "nbformat_minor": 2
}
