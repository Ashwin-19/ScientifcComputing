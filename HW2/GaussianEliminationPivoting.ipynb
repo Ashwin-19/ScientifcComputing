{
 "cells": [
  {
   "cell_type": "markdown",
   "metadata": {},
   "source": [
    "#### $\\text{Q2: Gaussian Elimination and Partial Pivoting}$"
   ]
  },
  {
   "cell_type": "code",
   "execution_count": 65,
   "metadata": {},
   "outputs": [],
   "source": [
    "from __future__ import division\n",
    "import numpy as np\n",
    "import scipy as sp\n",
    "import matplotlib.pyplot as plt\n",
    "import numpy.linalg as npla\n",
    "import scipy.linalg as spla"
   ]
  },
  {
   "cell_type": "code",
   "execution_count": 66,
   "metadata": {},
   "outputs": [],
   "source": [
    "def init_equation(k):\n",
    "    '''\n",
    "    returns A,b as mentioned in the equation\n",
    "    in the assignment\n",
    "    '''\n",
    "    epsilon = np.power(10.0,-2*k)\n",
    "    A = np.array([[epsilon,1],[1,1]])\n",
    "    b = np.array([1+epsilon,2])\n",
    "    return A,b"
   ]
  },
  {
   "cell_type": "code",
   "execution_count": 67,
   "metadata": {},
   "outputs": [],
   "source": [
    "def Gaussian_LU_naive(A):\n",
    "    '''\n",
    "    returns LU factorization of A \n",
    "    without partial pivoting\n",
    "    \n",
    "    Reference: \n",
    "    Classics in Applied Mathematics\n",
    "    Michael  T. Heath\n",
    "    '''\n",
    "    dim = A.shape\n",
    "    n = dim[0]\n",
    "    \n",
    "    L = np.identity(n)\n",
    "    U = A\n",
    "    \n",
    "    for i in range(n):\n",
    "        M = np.identity(n)\n",
    "        Op = np.identity(n)\n",
    "        if U[i,i] != 0:\n",
    "            M[i+1:, i] = U[i+1:,i] / U[i,i]\n",
    "            Op[i+1:, i] = -M[i+1:, i]\n",
    "            U = np.matmul(Op,U)\n",
    "            L = np.matmul(L,M)\n",
    "    \n",
    "    return L,U"
   ]
  },
  {
   "cell_type": "code",
   "execution_count": 68,
   "metadata": {},
   "outputs": [],
   "source": [
    "def solve(L,U,b):\n",
    "    '''\n",
    "    uses forward solve and backward solve\n",
    "    to find solutions for the equation\n",
    "    LUx = b\n",
    "    \n",
    "    Forward Solves for the Equation\n",
    "    Ly = b\n",
    "    \n",
    "    Backward Solves for the Equation\n",
    "    Ux = y\n",
    "    '''\n",
    "    y = spla.solve_triangular(L,b,lower=True)\n",
    "    x = spla.solve_triangular(U,y)\n",
    "    return x"
   ]
  },
  {
   "cell_type": "code",
   "execution_count": 69,
   "metadata": {},
   "outputs": [],
   "source": [
    "def approximate_solution(H,b):\n",
    "    '''\n",
    "    approximate solution for equation Hx = b\n",
    "    \n",
    "    P,L,U -> LU factorization of H with permutation matrix P\n",
    "    \n",
    "    Hx = b\n",
    "    -> PLUx = b\n",
    "    -> LUx = P.T*b (P.T = P^(-1)) \n",
    "    \n",
    "    Forward Solve for Ly = P.T*b\n",
    "    Backward Solve for Ux = y\n",
    "    \n",
    "    returns: x\n",
    "    '''\n",
    "    P,L,U = spla.lu(H)\n",
    "    Pb = P.T@b\n",
    "    y = spla.solve_triangular(L,Pb,lower=True)\n",
    "    x = spla.solve_triangular(U,y,lower=False)\n",
    "    return x"
   ]
  },
  {
   "cell_type": "code",
   "execution_count": 73,
   "metadata": {},
   "outputs": [],
   "source": [
    "absolute_errors = []\n",
    "refined_errors = []\n",
    "x = np.array([1,1])\n",
    "\n",
    "for i in range(1,11):\n",
    "    # absolute errors for without pivoting\n",
    "    A,b = init_equation(i)\n",
    "    L,U = Gaussian_LU_naive(A)\n",
    "    x_cap = solve(L,U,b)\n",
    "    error = x-x_cap\n",
    "    error_norm = npla.norm(error)\n",
    "    absolute_errors.append(error_norm)\n",
    "    \n",
    "    # Iterative Refinement\n",
    "    x0 = approximate_solution(A,b)\n",
    "    r0 = b-np.matmul(A,x0)\n",
    "    s0 = spla.solve(A,r0)\n",
    "    x1 = x0 + s0\n",
    "    rError_norm = npla.norm(x1-x)\n",
    "    refined_errors.append(rError_norm)"
   ]
  },
  {
   "cell_type": "code",
   "execution_count": 74,
   "metadata": {},
   "outputs": [
    {
     "data": {
      "image/png": "[encoded data removed]",
      "text/plain": [
       "<Figure size 432x288 with 1 Axes>"
      ]
     },
     "metadata": {
      "needs_background": "light"
     },
     "output_type": "display_data"
    }
   ],
   "source": [
    "x_axis = np.arange(1,11,1)\n",
    "plt.scatter(x_axis,absolute_errors,label='2-norm of errors')\n",
    "plt.xlabel('k')\n",
    "plt.legend(loc='upper left')\n",
    "plt.show()"
   ]
  },
  {
   "cell_type": "markdown",
   "metadata": {},
   "source": [
    "#### $\\text{Q2(a):}$\n",
    "$\\text{As we can infer from the plot, the solution is almost accurate till } \\epsilon = 10^{-14}$\n",
    "$\\text{The error increases at }\\epsilon = 10^{-16} \\approx \\epsilon_{mach} \\text{ and then becomes almost constant for } \\epsilon = 10^{-18}, 10^{-20}.$"
   ]
  },
  {
   "cell_type": "code",
   "execution_count": 75,
   "metadata": {},
   "outputs": [
    {
     "data": {
      "image/png": "[encoded data removed]",
      "text/plain": [
       "<Figure size 432x288 with 1 Axes>"
      ]
     },
     "metadata": {
      "needs_background": "light"
     },
     "output_type": "display_data"
    }
   ],
   "source": [
    "x_axis = np.arange(1,11,1)\n",
    "plt.scatter(x_axis,refined_errors,label='2-norm of refined errors')\n",
    "plt.xlabel('k')\n",
    "plt.legend(loc='upper left')\n",
    "plt.show()"
   ]
  },
  {
   "cell_type": "markdown",
   "metadata": {},
   "source": [
    "#### $\\text{Q2(b):}$\n",
    "$\\text{Upon, iterative refinement, the rise in error at } \\epsilon = 10^{-16} \\text{ is taken care of.}$\n",
    "$\\text{The solution remains almost accurate for all values of }\\epsilon.$"
   ]
  },
  {
   "cell_type": "markdown",
   "metadata": {},
   "source": [
    "$\\text{Ashwin Singh}$\n",
    "<br/>\n",
    "$\\text{2017222}$"
   ]
  }
 ],
 "metadata": {
  "kernelspec": {
   "display_name": "Python 3",
   "language": "python",
   "name": "python3"
  },
  "language_info": {
   "codemirror_mode": {
    "name": "ipython",
    "version": 3
   },
   "file_extension": ".py",
   "mimetype": "text/x-python",
   "name": "python",
   "nbconvert_exporter": "python",
   "pygments_lexer": "ipython3",
   "version": "3.7.1"
  }
 },
 "nbformat": 4,
 "nbformat_minor": 2
}
